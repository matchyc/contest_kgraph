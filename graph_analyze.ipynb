{
 "cells": [
  {
   "cell_type": "code",
   "execution_count": 2,
   "metadata": {},
   "outputs": [],
   "source": [
    "from graph_tool.all import *\n",
    "import networkx as nx\n",
    "import pandas as pd\n",
    "import numpy as np\n",
    "import matplotlib.pyplot as plt\n",
    "import functools\n",
    "import torch\n",
    "import pickle\n",
    "from multiprocessing import Process, Value, Array\n",
    "from pyvis.network import Network\n",
    "import graph_tool as gt\n",
    "import numpy as np\n"
   ]
  },
  {
   "cell_type": "code",
   "execution_count": 3,
   "metadata": {},
   "outputs": [],
   "source": [
    "K = 100"
   ]
  },
  {
   "cell_type": "code",
   "execution_count": 4,
   "metadata": {},
   "outputs": [],
   "source": [
    "\n",
    "# adjs = np.fromfile('output.bin', dtype=np.uint32).reshape(-1, K)\n",
    "# adj_dic = {}\n",
    "# g = gt.Graph()\n",
    "# for i, adj in zip(range(adjs.shape[0]), adjs):\n",
    "#     for x in adj:\n",
    "#         g.add_edge(i, x)\n",
    "# g"
   ]
  },
  {
   "cell_type": "code",
   "execution_count": 5,
   "metadata": {},
   "outputs": [],
   "source": [
    "# with open('output_graph.pkl', 'wb') as f:\n",
    "#     pickle.dump(g, f)\n",
    "#     f.close()\n"
   ]
  },
  {
   "cell_type": "code",
   "execution_count": 6,
   "metadata": {},
   "outputs": [],
   "source": [
    "# Open the file in binary read mode\n",
    "with open('output_graph.pkl', 'rb') as f:\n",
    "    \n",
    "    # Load the object from the file\n",
    "    g = pickle.load(f)\n",
    "    \n",
    "    # Close the file\n",
    "    f.close()\n"
   ]
  },
  {
   "cell_type": "code",
   "execution_count": 7,
   "metadata": {},
   "outputs": [
    {
     "data": {
      "text/plain": [
       "<Graph object, directed, with 1000000 vertices and 100000000 edges, at 0x7ffb637705e0>"
      ]
     },
     "execution_count": 7,
     "metadata": {},
     "output_type": "execute_result"
    }
   ],
   "source": [
    "g"
   ]
  },
  {
   "cell_type": "code",
   "execution_count": 8,
   "metadata": {},
   "outputs": [
    {
     "data": {
      "text/html": [
       "<div>\n",
       "<style scoped>\n",
       "    .dataframe tbody tr th:only-of-type {\n",
       "        vertical-align: middle;\n",
       "    }\n",
       "\n",
       "    .dataframe tbody tr th {\n",
       "        vertical-align: top;\n",
       "    }\n",
       "\n",
       "    .dataframe thead th {\n",
       "        text-align: right;\n",
       "    }\n",
       "</style>\n",
       "<table border=\"1\" class=\"dataframe\">\n",
       "  <thead>\n",
       "    <tr style=\"text-align: right;\">\n",
       "      <th></th>\n",
       "      <th>0</th>\n",
       "    </tr>\n",
       "  </thead>\n",
       "  <tbody>\n",
       "    <tr>\n",
       "      <th>0</th>\n",
       "      <td>104</td>\n",
       "    </tr>\n",
       "    <tr>\n",
       "      <th>1</th>\n",
       "      <td>64</td>\n",
       "    </tr>\n",
       "    <tr>\n",
       "      <th>2</th>\n",
       "      <td>73</td>\n",
       "    </tr>\n",
       "    <tr>\n",
       "      <th>3</th>\n",
       "      <td>55</td>\n",
       "    </tr>\n",
       "    <tr>\n",
       "      <th>4</th>\n",
       "      <td>22</td>\n",
       "    </tr>\n",
       "    <tr>\n",
       "      <th>...</th>\n",
       "      <td>...</td>\n",
       "    </tr>\n",
       "    <tr>\n",
       "      <th>999995</th>\n",
       "      <td>30</td>\n",
       "    </tr>\n",
       "    <tr>\n",
       "      <th>999996</th>\n",
       "      <td>128</td>\n",
       "    </tr>\n",
       "    <tr>\n",
       "      <th>999997</th>\n",
       "      <td>43</td>\n",
       "    </tr>\n",
       "    <tr>\n",
       "      <th>999998</th>\n",
       "      <td>110</td>\n",
       "    </tr>\n",
       "    <tr>\n",
       "      <th>999999</th>\n",
       "      <td>10</td>\n",
       "    </tr>\n",
       "  </tbody>\n",
       "</table>\n",
       "<p>1000000 rows × 1 columns</p>\n",
       "</div>"
      ],
      "text/plain": [
       "          0\n",
       "0       104\n",
       "1        64\n",
       "2        73\n",
       "3        55\n",
       "4        22\n",
       "...     ...\n",
       "999995   30\n",
       "999996  128\n",
       "999997   43\n",
       "999998  110\n",
       "999999   10\n",
       "\n",
       "[1000000 rows x 1 columns]"
      ]
     },
     "execution_count": 8,
     "metadata": {},
     "output_type": "execute_result"
    }
   ],
   "source": [
    "vid = np.arange(0, g.num_vertices()).tolist()\n",
    "all_ind = g.get_in_degrees(vid)\n",
    "ind_df = pd.DataFrame(all_ind)\n",
    "ind_df"
   ]
  },
  {
   "cell_type": "code",
   "execution_count": 9,
   "metadata": {},
   "outputs": [
    {
     "data": {
      "text/html": [
       "<div>\n",
       "<style scoped>\n",
       "    .dataframe tbody tr th:only-of-type {\n",
       "        vertical-align: middle;\n",
       "    }\n",
       "\n",
       "    .dataframe tbody tr th {\n",
       "        vertical-align: top;\n",
       "    }\n",
       "\n",
       "    .dataframe thead th {\n",
       "        text-align: right;\n",
       "    }\n",
       "</style>\n",
       "<table border=\"1\" class=\"dataframe\">\n",
       "  <thead>\n",
       "    <tr style=\"text-align: right;\">\n",
       "      <th></th>\n",
       "      <th>0</th>\n",
       "    </tr>\n",
       "  </thead>\n",
       "  <tbody>\n",
       "    <tr>\n",
       "      <th>count</th>\n",
       "      <td>1000000.000000</td>\n",
       "    </tr>\n",
       "    <tr>\n",
       "      <th>mean</th>\n",
       "      <td>100.000000</td>\n",
       "    </tr>\n",
       "    <tr>\n",
       "      <th>std</th>\n",
       "      <td>171.873161</td>\n",
       "    </tr>\n",
       "    <tr>\n",
       "      <th>min</th>\n",
       "      <td>0.000000</td>\n",
       "    </tr>\n",
       "    <tr>\n",
       "      <th>25%</th>\n",
       "      <td>29.000000</td>\n",
       "    </tr>\n",
       "    <tr>\n",
       "      <th>50%</th>\n",
       "      <td>57.000000</td>\n",
       "    </tr>\n",
       "    <tr>\n",
       "      <th>75%</th>\n",
       "      <td>109.000000</td>\n",
       "    </tr>\n",
       "    <tr>\n",
       "      <th>max</th>\n",
       "      <td>10658.000000</td>\n",
       "    </tr>\n",
       "  </tbody>\n",
       "</table>\n",
       "</div>"
      ],
      "text/plain": [
       "                    0\n",
       "count  1000000.000000\n",
       "mean       100.000000\n",
       "std        171.873161\n",
       "min          0.000000\n",
       "25%         29.000000\n",
       "50%         57.000000\n",
       "75%        109.000000\n",
       "max      10658.000000"
      ]
     },
     "execution_count": 9,
     "metadata": {},
     "output_type": "execute_result"
    }
   ],
   "source": [
    "ind_df.describe()"
   ]
  },
  {
   "cell_type": "code",
   "execution_count": 10,
   "metadata": {},
   "outputs": [],
   "source": [
    "f_gt = open('../evaluation-code/contest-data-release-gt-1m.ibin', 'rb')\n",
    "f_gt.seek(4)\n",
    "gt_ids = np.empty((1000000, K), dtype=np.uint32)\n",
    "for i in range(1000000):\n",
    "    cur_id = np.fromfile(f_gt, dtype=np.uint32, count=1)[0]\n",
    "    gt_ids[cur_id] = np.fromfile(f_gt, dtype=np.uint32, count=K)\n"
   ]
  },
  {
   "cell_type": "code",
   "execution_count": 11,
   "metadata": {},
   "outputs": [
    {
     "data": {
      "text/plain": [
       "(1000000, 100)"
      ]
     },
     "execution_count": 11,
     "metadata": {},
     "output_type": "execute_result"
    }
   ],
   "source": [
    "gt_ids.shape"
   ]
  },
  {
   "cell_type": "code",
   "execution_count": 12,
   "metadata": {},
   "outputs": [],
   "source": [
    "f_res = open('output.bin', 'rb')\n",
    "graph_res = np.fromfile(f_res, dtype=np.uint32).reshape(-1, K)\n",
    "f_res.close()\n",
    "\n",
    "for i in range(graph_res.shape[0]):\n",
    "    unique_vals = np.unique(graph_res[i])\n",
    "    if len(unique_vals) == graph_res.shape[1]:\n",
    "        pass\n",
    "        # print(\"All elements in graph_res[{}] are unique\".format(i))\n",
    "    else:\n",
    "        print(\"There are duplicate elements in graph_res[{}]: {}\".format(i, unique_vals))\n"
   ]
  },
  {
   "cell_type": "code",
   "execution_count": 13,
   "metadata": {},
   "outputs": [
    {
     "data": {
      "text/plain": [
       "array([[513548, 964580, 510954, ..., 450783, 703797, 368286],\n",
       "       [182423, 555328, 481001, ..., 244628,  46471, 552387],\n",
       "       [654596, 319311, 115908, ...,  84966, 702534, 416532],\n",
       "       ...,\n",
       "       [259154, 542208, 864029, ..., 366741, 878759, 802517],\n",
       "       [616694, 916714, 838316, ..., 771087, 233660, 186672],\n",
       "       [ 65364, 769904, 391230, ..., 528604, 294449, 582554]],\n",
       "      dtype=uint32)"
      ]
     },
     "execution_count": 13,
     "metadata": {},
     "output_type": "execute_result"
    }
   ],
   "source": [
    "graph_res"
   ]
  },
  {
   "cell_type": "code",
   "execution_count": 14,
   "metadata": {},
   "outputs": [
    {
     "data": {
      "text/plain": [
       "(array([182423, 555328, 481001, 870285, 105516, 379912, 767419, 234646,\n",
       "         14593, 611263, 823224, 800336, 375059, 116483, 176962, 287145,\n",
       "        879562,  30211, 691407, 662105, 236970, 797638, 478318,  57877,\n",
       "        949568, 929959, 765426, 403352, 293805, 155457, 558088, 252996,\n",
       "        501898, 297621, 262514, 111451, 782534, 791048, 648460, 819288,\n",
       "        900516, 728079, 240993, 527817, 983340, 926564, 413899, 951558,\n",
       "        485810, 789265, 215059, 227659, 524707, 449789, 879774, 945364,\n",
       "        314083, 445653, 387173, 913225, 860499, 499465, 481872, 116577,\n",
       "         56237, 836803, 662816, 757656, 319471, 891329, 900657, 769486,\n",
       "        187863, 491194, 257503, 190437, 909537, 774366, 830083, 597076,\n",
       "        839464, 495226, 292169, 977571, 578385, 421420, 132079, 728161,\n",
       "        759135, 532606, 480445, 873091, 747105, 665991, 554666, 870334,\n",
       "        324055, 244628,  46471, 552387], dtype=uint32),\n",
       " array([182423, 555328, 481001, 870285, 105516, 379912, 767419, 234646,\n",
       "         14593, 611263, 823224, 800336, 375059, 116483, 176962, 287145,\n",
       "        879562,  30211, 691407, 662105, 236970, 797638, 478318,  57877,\n",
       "        949568, 929959, 765426, 403352, 293805, 155457, 558088, 252996,\n",
       "        501898, 297621, 262514, 636335, 111451, 782534, 791048, 648460,\n",
       "        819288, 889686, 900516, 772471, 728079, 240993, 527817, 983340,\n",
       "        926564, 413899, 951558, 485810, 789265, 413837, 215059, 227659,\n",
       "        524707, 449789, 879774, 945364, 314083, 445653, 387173, 913225,\n",
       "        860499, 499465, 481872, 116577,  56237, 836803, 662816, 757656,\n",
       "        319471, 891329, 900657, 769486, 187863, 491194, 257503, 190437,\n",
       "        909537, 774366, 830083, 597076, 839464, 495226, 292169, 977571,\n",
       "        578385, 421420, 132079, 728161, 759135, 532606, 604573, 480445,\n",
       "        873091, 747105, 665991, 554666], dtype=uint32))"
      ]
     },
     "execution_count": 14,
     "metadata": {},
     "output_type": "execute_result"
    }
   ],
   "source": [
    "graph_res[1], gt_ids[1]"
   ]
  },
  {
   "cell_type": "code",
   "execution_count": 15,
   "metadata": {},
   "outputs": [
    {
     "data": {
      "text/plain": [
       "array([ True,  True,  True,  True,  True,  True,  True,  True,  True,\n",
       "        True,  True,  True,  True,  True,  True,  True,  True,  True,\n",
       "        True,  True,  True,  True,  True,  True,  True,  True,  True,\n",
       "        True,  True,  True,  True,  True,  True,  True,  True, False,\n",
       "        True,  True,  True,  True,  True, False,  True, False,  True,\n",
       "        True,  True,  True,  True,  True,  True,  True,  True, False,\n",
       "        True,  True,  True,  True,  True,  True,  True,  True,  True,\n",
       "        True,  True,  True,  True,  True,  True,  True,  True,  True,\n",
       "        True,  True,  True,  True,  True,  True,  True,  True,  True,\n",
       "        True,  True,  True,  True,  True,  True,  True,  True,  True,\n",
       "        True,  True,  True,  True, False,  True,  True,  True,  True,\n",
       "        True])"
      ]
     },
     "execution_count": 15,
     "metadata": {},
     "output_type": "execute_result"
    }
   ],
   "source": [
    "a = np.isin(gt_ids[1], graph_res[1])\n",
    "a"
   ]
  },
  {
   "cell_type": "code",
   "execution_count": 16,
   "metadata": {},
   "outputs": [],
   "source": [
    "import multiprocessing as mp\n",
    "\n",
    "def process_chunk(start_idx, end_idx):\n",
    "    chunk_hit_mx = np.zeros((end_idx-start_idx, K), dtype=np.uint32)\n",
    "    for i in range(start_idx, end_idx):\n",
    "        mask = np.isin(gt_ids[i], graph_res[i])\n",
    "        hit_indices = np.where(mask)[0]\n",
    "        gt_indices = np.where(mask == True)[0]\n",
    "        chunk_hit_mx[i-start_idx, gt_indices] = 1\n",
    "    return chunk_hit_mx\n",
    "\n",
    "# number of worker processes\n",
    "num_procs = mp.cpu_count()\n",
    "\n",
    "# chunk size\n",
    "chunk_size = 10**4\n",
    "\n",
    "# create pool of worker processes\n",
    "pool = mp.Pool(processes=num_procs)\n",
    "\n",
    "# submit jobs to pool\n",
    "results = []\n",
    "for i in range(0, 10**6, chunk_size):\n",
    "    results.append(pool.apply_async(process_chunk, args=(i, min(i+chunk_size, 10**6))))\n",
    "\n",
    "# collect results and combine into final hit_mx array\n",
    "hit_mx = np.concatenate([r.get() for r in results], axis=0)\n",
    "\n",
    "# close pool\n",
    "pool.close()\n",
    "pool.join()\n"
   ]
  },
  {
   "cell_type": "code",
   "execution_count": 17,
   "metadata": {},
   "outputs": [],
   "source": [
    "hit_df = pd.DataFrame(hit_mx)\n",
    "hit_df['recall'] = hit_df.sum(axis=1) / K"
   ]
  },
  {
   "cell_type": "code",
   "execution_count": 18,
   "metadata": {},
   "outputs": [
    {
     "data": {
      "text/html": [
       "<div>\n",
       "<style scoped>\n",
       "    .dataframe tbody tr th:only-of-type {\n",
       "        vertical-align: middle;\n",
       "    }\n",
       "\n",
       "    .dataframe tbody tr th {\n",
       "        vertical-align: top;\n",
       "    }\n",
       "\n",
       "    .dataframe thead th {\n",
       "        text-align: right;\n",
       "    }\n",
       "</style>\n",
       "<table border=\"1\" class=\"dataframe\">\n",
       "  <thead>\n",
       "    <tr style=\"text-align: right;\">\n",
       "      <th></th>\n",
       "      <th>recall</th>\n",
       "      <th>indegree</th>\n",
       "    </tr>\n",
       "  </thead>\n",
       "  <tbody>\n",
       "    <tr>\n",
       "      <th>0</th>\n",
       "      <td>1.00</td>\n",
       "      <td>104</td>\n",
       "    </tr>\n",
       "    <tr>\n",
       "      <th>1</th>\n",
       "      <td>0.95</td>\n",
       "      <td>64</td>\n",
       "    </tr>\n",
       "    <tr>\n",
       "      <th>2</th>\n",
       "      <td>1.00</td>\n",
       "      <td>73</td>\n",
       "    </tr>\n",
       "    <tr>\n",
       "      <th>3</th>\n",
       "      <td>1.00</td>\n",
       "      <td>55</td>\n",
       "    </tr>\n",
       "    <tr>\n",
       "      <th>4</th>\n",
       "      <td>0.97</td>\n",
       "      <td>22</td>\n",
       "    </tr>\n",
       "    <tr>\n",
       "      <th>...</th>\n",
       "      <td>...</td>\n",
       "      <td>...</td>\n",
       "    </tr>\n",
       "    <tr>\n",
       "      <th>999995</th>\n",
       "      <td>1.00</td>\n",
       "      <td>30</td>\n",
       "    </tr>\n",
       "    <tr>\n",
       "      <th>999996</th>\n",
       "      <td>1.00</td>\n",
       "      <td>128</td>\n",
       "    </tr>\n",
       "    <tr>\n",
       "      <th>999997</th>\n",
       "      <td>0.95</td>\n",
       "      <td>43</td>\n",
       "    </tr>\n",
       "    <tr>\n",
       "      <th>999998</th>\n",
       "      <td>1.00</td>\n",
       "      <td>110</td>\n",
       "    </tr>\n",
       "    <tr>\n",
       "      <th>999999</th>\n",
       "      <td>0.98</td>\n",
       "      <td>10</td>\n",
       "    </tr>\n",
       "  </tbody>\n",
       "</table>\n",
       "<p>1000000 rows × 2 columns</p>\n",
       "</div>"
      ],
      "text/plain": [
       "        recall  indegree\n",
       "0         1.00       104\n",
       "1         0.95        64\n",
       "2         1.00        73\n",
       "3         1.00        55\n",
       "4         0.97        22\n",
       "...        ...       ...\n",
       "999995    1.00        30\n",
       "999996    1.00       128\n",
       "999997    0.95        43\n",
       "999998    1.00       110\n",
       "999999    0.98        10\n",
       "\n",
       "[1000000 rows x 2 columns]"
      ]
     },
     "execution_count": 18,
     "metadata": {},
     "output_type": "execute_result"
    }
   ],
   "source": [
    "recall_ind_df = pd.DataFrame({'recall': hit_df['recall'], 'indegree': all_ind})\n",
    "recall_ind_df"
   ]
  },
  {
   "cell_type": "code",
   "execution_count": 32,
   "metadata": {},
   "outputs": [
    {
     "data": {
      "text/plain": [
       "<Axes: xlabel='indegree', ylabel='recall'>"
      ]
     },
     "execution_count": 32,
     "metadata": {},
     "output_type": "execute_result"
    },
    {
     "data": {
      "image/png": "[encoded data removed]",
      "text/plain": [
       "<Figure size 640x480 with 1 Axes>"
      ]
     },
     "metadata": {},
     "output_type": "display_data"
    }
   ],
   "source": [
    "sorted_df = recall_ind_df.sort_values(by='indegree').iloc[:-500000:,]\n",
    "sorted_df.plot(x='indegree', y='recall', kind='scatter')"
   ]
  },
  {
   "cell_type": "code",
   "execution_count": 31,
   "metadata": {},
   "outputs": [
    {
     "data": {
      "text/html": [
       "<div>\n",
       "<style scoped>\n",
       "    .dataframe tbody tr th:only-of-type {\n",
       "        vertical-align: middle;\n",
       "    }\n",
       "\n",
       "    .dataframe tbody tr th {\n",
       "        vertical-align: top;\n",
       "    }\n",
       "\n",
       "    .dataframe thead th {\n",
       "        text-align: right;\n",
       "    }\n",
       "</style>\n",
       "<table border=\"1\" class=\"dataframe\">\n",
       "  <thead>\n",
       "    <tr style=\"text-align: right;\">\n",
       "      <th></th>\n",
       "      <th>recall</th>\n",
       "      <th>indegree</th>\n",
       "    </tr>\n",
       "  </thead>\n",
       "  <tbody>\n",
       "    <tr>\n",
       "      <th>count</th>\n",
       "      <td>950000.000000</td>\n",
       "      <td>950000.000000</td>\n",
       "    </tr>\n",
       "    <tr>\n",
       "      <th>mean</th>\n",
       "      <td>0.987038</td>\n",
       "      <td>72.313253</td>\n",
       "    </tr>\n",
       "    <tr>\n",
       "      <th>std</th>\n",
       "      <td>0.019695</td>\n",
       "      <td>61.876262</td>\n",
       "    </tr>\n",
       "    <tr>\n",
       "      <th>min</th>\n",
       "      <td>0.740000</td>\n",
       "      <td>0.000000</td>\n",
       "    </tr>\n",
       "    <tr>\n",
       "      <th>0%</th>\n",
       "      <td>0.740000</td>\n",
       "      <td>0.000000</td>\n",
       "    </tr>\n",
       "    <tr>\n",
       "      <th>10%</th>\n",
       "      <td>0.960000</td>\n",
       "      <td>14.000000</td>\n",
       "    </tr>\n",
       "    <tr>\n",
       "      <th>20%</th>\n",
       "      <td>0.980000</td>\n",
       "      <td>23.000000</td>\n",
       "    </tr>\n",
       "    <tr>\n",
       "      <th>30%</th>\n",
       "      <td>0.990000</td>\n",
       "      <td>32.000000</td>\n",
       "    </tr>\n",
       "    <tr>\n",
       "      <th>40%</th>\n",
       "      <td>0.990000</td>\n",
       "      <td>42.000000</td>\n",
       "    </tr>\n",
       "    <tr>\n",
       "      <th>50%</th>\n",
       "      <td>1.000000</td>\n",
       "      <td>54.000000</td>\n",
       "    </tr>\n",
       "    <tr>\n",
       "      <th>60%</th>\n",
       "      <td>1.000000</td>\n",
       "      <td>68.000000</td>\n",
       "    </tr>\n",
       "    <tr>\n",
       "      <th>70%</th>\n",
       "      <td>1.000000</td>\n",
       "      <td>86.000000</td>\n",
       "    </tr>\n",
       "    <tr>\n",
       "      <th>80%</th>\n",
       "      <td>1.000000</td>\n",
       "      <td>112.000000</td>\n",
       "    </tr>\n",
       "    <tr>\n",
       "      <th>90%</th>\n",
       "      <td>1.000000</td>\n",
       "      <td>160.000000</td>\n",
       "    </tr>\n",
       "    <tr>\n",
       "      <th>max</th>\n",
       "      <td>1.000000</td>\n",
       "      <td>313.000000</td>\n",
       "    </tr>\n",
       "  </tbody>\n",
       "</table>\n",
       "</div>"
      ],
      "text/plain": [
       "              recall       indegree\n",
       "count  950000.000000  950000.000000\n",
       "mean        0.987038      72.313253\n",
       "std         0.019695      61.876262\n",
       "min         0.740000       0.000000\n",
       "0%          0.740000       0.000000\n",
       "10%         0.960000      14.000000\n",
       "20%         0.980000      23.000000\n",
       "30%         0.990000      32.000000\n",
       "40%         0.990000      42.000000\n",
       "50%         1.000000      54.000000\n",
       "60%         1.000000      68.000000\n",
       "70%         1.000000      86.000000\n",
       "80%         1.000000     112.000000\n",
       "90%         1.000000     160.000000\n",
       "max         1.000000     313.000000"
      ]
     },
     "execution_count": 31,
     "metadata": {},
     "output_type": "execute_result"
    }
   ],
   "source": [
    "sorted_df.describe(percentiles=np.arange(0, 1, 0.1))"
   ]
  },
  {
   "cell_type": "code",
   "execution_count": 1,
   "metadata": {},
   "outputs": [
    {
     "ename": "NameError",
     "evalue": "name 'recall_ind_df' is not defined",
     "output_type": "error",
     "traceback": [
      "\u001b[0;31m---------------------------------------------------------------------------\u001b[0m",
      "\u001b[0;31mNameError\u001b[0m                                 Traceback (most recent call last)",
      "Cell \u001b[0;32mIn[1], line 1\u001b[0m\n\u001b[0;32m----> 1\u001b[0m recall_ind_df\u001b[39m.\u001b[39mpolt()\n",
      "\u001b[0;31mNameError\u001b[0m: name 'recall_ind_df' is not defined"
     ]
    }
   ],
   "source": [
    "recall_ind_df.polt()"
   ]
  },
  {
   "cell_type": "code",
   "execution_count": 34,
   "metadata": {},
   "outputs": [],
   "source": [
    "hit_loc_mean_df = pd.DataFrame(hit_df.describe().loc['mean'])"
   ]
  },
  {
   "cell_type": "code",
   "execution_count": 35,
   "metadata": {},
   "outputs": [
    {
     "ename": "ValueError",
     "evalue": "Length of values (1000000) does not match length of index (100)",
     "output_type": "error",
     "traceback": [
      "\u001b[0;31m---------------------------------------------------------------------------\u001b[0m",
      "\u001b[0;31mValueError\u001b[0m                                Traceback (most recent call last)",
      "Cell \u001b[0;32mIn[35], line 3\u001b[0m\n\u001b[1;32m      1\u001b[0m \u001b[39m# pd.set_option('display.max_rows', None)\u001b[39;00m\n\u001b[1;32m      2\u001b[0m hit_loc_mean_df[\u001b[39m'\u001b[39m\u001b[39mid\u001b[39m\u001b[39m'\u001b[39m] \u001b[39m=\u001b[39m hit_loc_mean_df\u001b[39m.\u001b[39mindex\u001b[39m.\u001b[39mtolist()\n\u001b[0;32m----> 3\u001b[0m hit_loc_mean_df[\u001b[39m'\u001b[39;49m\u001b[39mhubness\u001b[39;49m\u001b[39m'\u001b[39;49m] \u001b[39m=\u001b[39m all_ind\n\u001b[1;32m      4\u001b[0m hit_loc_mean_df\n",
      "File \u001b[0;32m~/miniconda3/envs/py38/lib/python3.8/site-packages/pandas/core/frame.py:3980\u001b[0m, in \u001b[0;36mDataFrame.__setitem__\u001b[0;34m(self, key, value)\u001b[0m\n\u001b[1;32m   3977\u001b[0m     \u001b[39mself\u001b[39m\u001b[39m.\u001b[39m_setitem_array([key], value)\n\u001b[1;32m   3978\u001b[0m \u001b[39melse\u001b[39;00m:\n\u001b[1;32m   3979\u001b[0m     \u001b[39m# set column\u001b[39;00m\n\u001b[0;32m-> 3980\u001b[0m     \u001b[39mself\u001b[39;49m\u001b[39m.\u001b[39;49m_set_item(key, value)\n",
      "File \u001b[0;32m~/miniconda3/envs/py38/lib/python3.8/site-packages/pandas/core/frame.py:4174\u001b[0m, in \u001b[0;36mDataFrame._set_item\u001b[0;34m(self, key, value)\u001b[0m\n\u001b[1;32m   4164\u001b[0m \u001b[39mdef\u001b[39;00m \u001b[39m_set_item\u001b[39m(\u001b[39mself\u001b[39m, key, value) \u001b[39m-\u001b[39m\u001b[39m>\u001b[39m \u001b[39mNone\u001b[39;00m:\n\u001b[1;32m   4165\u001b[0m \u001b[39m    \u001b[39m\u001b[39m\"\"\"\u001b[39;00m\n\u001b[1;32m   4166\u001b[0m \u001b[39m    Add series to DataFrame in specified column.\u001b[39;00m\n\u001b[1;32m   4167\u001b[0m \n\u001b[0;32m   (...)\u001b[0m\n\u001b[1;32m   4172\u001b[0m \u001b[39m    ensure homogeneity.\u001b[39;00m\n\u001b[1;32m   4173\u001b[0m \u001b[39m    \"\"\"\u001b[39;00m\n\u001b[0;32m-> 4174\u001b[0m     value \u001b[39m=\u001b[39m \u001b[39mself\u001b[39;49m\u001b[39m.\u001b[39;49m_sanitize_column(value)\n\u001b[1;32m   4176\u001b[0m     \u001b[39mif\u001b[39;00m (\n\u001b[1;32m   4177\u001b[0m         key \u001b[39min\u001b[39;00m \u001b[39mself\u001b[39m\u001b[39m.\u001b[39mcolumns\n\u001b[1;32m   4178\u001b[0m         \u001b[39mand\u001b[39;00m value\u001b[39m.\u001b[39mndim \u001b[39m==\u001b[39m \u001b[39m1\u001b[39m\n\u001b[1;32m   4179\u001b[0m         \u001b[39mand\u001b[39;00m \u001b[39mnot\u001b[39;00m is_extension_array_dtype(value)\n\u001b[1;32m   4180\u001b[0m     ):\n\u001b[1;32m   4181\u001b[0m         \u001b[39m# broadcast across multiple columns if necessary\u001b[39;00m\n\u001b[1;32m   4182\u001b[0m         \u001b[39mif\u001b[39;00m \u001b[39mnot\u001b[39;00m \u001b[39mself\u001b[39m\u001b[39m.\u001b[39mcolumns\u001b[39m.\u001b[39mis_unique \u001b[39mor\u001b[39;00m \u001b[39misinstance\u001b[39m(\u001b[39mself\u001b[39m\u001b[39m.\u001b[39mcolumns, MultiIndex):\n",
      "File \u001b[0;32m~/miniconda3/envs/py38/lib/python3.8/site-packages/pandas/core/frame.py:4915\u001b[0m, in \u001b[0;36mDataFrame._sanitize_column\u001b[0;34m(self, value)\u001b[0m\n\u001b[1;32m   4912\u001b[0m     \u001b[39mreturn\u001b[39;00m _reindex_for_setitem(Series(value), \u001b[39mself\u001b[39m\u001b[39m.\u001b[39mindex)\n\u001b[1;32m   4914\u001b[0m \u001b[39mif\u001b[39;00m is_list_like(value):\n\u001b[0;32m-> 4915\u001b[0m     com\u001b[39m.\u001b[39;49mrequire_length_match(value, \u001b[39mself\u001b[39;49m\u001b[39m.\u001b[39;49mindex)\n\u001b[1;32m   4916\u001b[0m \u001b[39mreturn\u001b[39;00m sanitize_array(value, \u001b[39mself\u001b[39m\u001b[39m.\u001b[39mindex, copy\u001b[39m=\u001b[39m\u001b[39mTrue\u001b[39;00m, allow_2d\u001b[39m=\u001b[39m\u001b[39mTrue\u001b[39;00m)\n",
      "File \u001b[0;32m~/miniconda3/envs/py38/lib/python3.8/site-packages/pandas/core/common.py:571\u001b[0m, in \u001b[0;36mrequire_length_match\u001b[0;34m(data, index)\u001b[0m\n\u001b[1;32m    567\u001b[0m \u001b[39m\u001b[39m\u001b[39m\"\"\"\u001b[39;00m\n\u001b[1;32m    568\u001b[0m \u001b[39mCheck the length of data matches the length of the index.\u001b[39;00m\n\u001b[1;32m    569\u001b[0m \u001b[39m\"\"\"\u001b[39;00m\n\u001b[1;32m    570\u001b[0m \u001b[39mif\u001b[39;00m \u001b[39mlen\u001b[39m(data) \u001b[39m!=\u001b[39m \u001b[39mlen\u001b[39m(index):\n\u001b[0;32m--> 571\u001b[0m     \u001b[39mraise\u001b[39;00m \u001b[39mValueError\u001b[39;00m(\n\u001b[1;32m    572\u001b[0m         \u001b[39m\"\u001b[39m\u001b[39mLength of values \u001b[39m\u001b[39m\"\u001b[39m\n\u001b[1;32m    573\u001b[0m         \u001b[39mf\u001b[39m\u001b[39m\"\u001b[39m\u001b[39m(\u001b[39m\u001b[39m{\u001b[39;00m\u001b[39mlen\u001b[39m(data)\u001b[39m}\u001b[39;00m\u001b[39m) \u001b[39m\u001b[39m\"\u001b[39m\n\u001b[1;32m    574\u001b[0m         \u001b[39m\"\u001b[39m\u001b[39mdoes not match length of index \u001b[39m\u001b[39m\"\u001b[39m\n\u001b[1;32m    575\u001b[0m         \u001b[39mf\u001b[39m\u001b[39m\"\u001b[39m\u001b[39m(\u001b[39m\u001b[39m{\u001b[39;00m\u001b[39mlen\u001b[39m(index)\u001b[39m}\u001b[39;00m\u001b[39m)\u001b[39m\u001b[39m\"\u001b[39m\n\u001b[1;32m    576\u001b[0m     )\n",
      "\u001b[0;31mValueError\u001b[0m: Length of values (1000000) does not match length of index (100)"
     ]
    }
   ],
   "source": [
    "# pd.set_option('display.max_rows', None)\n",
    "hit_loc_mean_df['id'] = hit_loc_mean_df.index.tolist()\n",
    "hit_loc_mean_df"
   ]
  },
  {
   "cell_type": "code",
   "execution_count": 17,
   "metadata": {},
   "outputs": [],
   "source": [
    "# Function to find reverse k-nearest neighbors\n",
    "def reverse_knn(adj_list, k):\n",
    "    # Initialize empty dictionary to store rKNN counts\n",
    "    rknn_counts = {}\n",
    "    # Iterate over every vertex in the graph\n",
    "    for i, vertex in enumerate(adj_list):\n",
    "        # Initialize count of rKNNs to 0\n",
    "        count_rknn = 0\n",
    "        # Iterate over every other vertex in the graph\n",
    "        for j, other_vertex in enumerate(adj_list):\n",
    "            # Skip the current vertex\n",
    "            if i == j:\n",
    "                continue\n",
    "            # If the current vertex is one of the K nearest neighbors of the other vertex,\n",
    "            # increment the rKNN count of the current vertex\n",
    "            if i in other_vertex[:k]:\n",
    "                count_rknn += 1\n",
    "        # Store the rKNN count of the current vertex in the dictionary\n",
    "        rknn_counts[i] = count_rknn\n",
    "    # Return the dictionary of rKNN counts\n",
    "    return rknn_counts\n"
   ]
  },
  {
   "cell_type": "code",
   "execution_count": 18,
   "metadata": {},
   "outputs": [],
   "source": [
    "import numpy as np\n",
    "import multiprocessing as mp\n",
    "\n",
    "# Function to find reverse k-nearest neighbors for a chunk of vertices\n",
    "def reverse_knn_chunk(adj_list, start, end, k):\n",
    "    # Initialize empty dictionary to store rKNN counts for this chunk\n",
    "    rknn_counts = {}\n",
    "    # Iterate over every vertex in the chunk\n",
    "    for i in range(start, end):\n",
    "        # Get the current vertex\n",
    "        vertex = adj_list[i]\n",
    "        # Initialize count of rKNNs to 0\n",
    "        count_rknn = 0\n",
    "        # Iterate over every other vertex in the graph\n",
    "        for j, other_vertex in enumerate(adj_list):\n",
    "            # Skip the current vertex\n",
    "            if i == j:\n",
    "                continue\n",
    "            # If the current vertex is one of the K nearest neighbors of the other vertex,\n",
    "            # increment the rKNN count of the current vertex\n",
    "            if i in other_vertex[:k]:\n",
    "                count_rknn += 1\n",
    "        # Store the rKNN count of the current vertex in the dictionary\n",
    "        rknn_counts[i] = count_rknn\n",
    "    # Return the dictionary of rKNN counts for this chunk\n",
    "    return rknn_counts\n",
    "\n",
    "# Function to parallelize finding reverse k-nearest neighbors\n",
    "def parallel_reverse_knn(adj_list, k, num_processes=4):\n",
    "    # Divide the adjacency list into equal chunks based on the number of processes\n",
    "    chunk_size = len(adj_list) // num_processes\n",
    "    chunks = [(i * chunk_size, (i + 1) * chunk_size) for i in range(num_processes)]\n",
    "    chunks[-1] = (chunks[-1][0], len(adj_list))\n",
    "    # Create a process pool with the specified number of processes\n",
    "    pool = mp.Pool(processes=num_processes)\n",
    "    # Process each chunk in parallel using the process pool\n",
    "    results = [pool.apply_async(reverse_knn_chunk, args=(adj_list, start, end, k)) for start, end in chunks]\n",
    "    # Merge the results from all the chunks into a single dictionary of rKNN counts\n",
    "    rknn_counts = {}\n",
    "    for result in results:\n",
    "        rknn_counts.update(result.get())\n",
    "    # Close the process pool and return the final dictionary of rKNN counts\n",
    "    pool.close()\n",
    "    return rknn_counts\n"
   ]
  },
  {
   "cell_type": "code",
   "execution_count": 19,
   "metadata": {},
   "outputs": [],
   "source": [
    "# hub_score = parallel_reverse_knn(graph_res, K, 80)\n",
    "# hub_score"
   ]
  },
  {
   "cell_type": "code",
   "execution_count": 20,
   "metadata": {},
   "outputs": [
    {
     "ename": "KeyboardInterrupt",
     "evalue": "",
     "output_type": "error",
     "traceback": [
      "\u001b[0;31m---------------------------------------------------------------------------\u001b[0m",
      "\u001b[0;31mKeyboardInterrupt\u001b[0m                         Traceback (most recent call last)",
      "Cell \u001b[0;32mIn[20], line 1\u001b[0m\n\u001b[0;32m----> 1\u001b[0m hub_score \u001b[39m=\u001b[39m reverse_knn(graph_res, K)\n\u001b[1;32m      2\u001b[0m hub_score\n",
      "Cell \u001b[0;32mIn[17], line 10\u001b[0m, in \u001b[0;36mreverse_knn\u001b[0;34m(adj_list, k)\u001b[0m\n\u001b[1;32m      8\u001b[0m count_rknn \u001b[39m=\u001b[39m \u001b[39m0\u001b[39m\n\u001b[1;32m      9\u001b[0m \u001b[39m# Iterate over every other vertex in the graph\u001b[39;00m\n\u001b[0;32m---> 10\u001b[0m \u001b[39mfor\u001b[39;00m j, other_vertex \u001b[39min\u001b[39;00m \u001b[39menumerate\u001b[39m(adj_list):\n\u001b[1;32m     11\u001b[0m     \u001b[39m# Skip the current vertex\u001b[39;00m\n\u001b[1;32m     12\u001b[0m     \u001b[39mif\u001b[39;00m i \u001b[39m==\u001b[39m j:\n\u001b[1;32m     13\u001b[0m         \u001b[39mcontinue\u001b[39;00m\n",
      "\u001b[0;31mKeyboardInterrupt\u001b[0m: "
     ]
    }
   ],
   "source": [
    "hub_score = reverse_knn(graph_res, K)\n",
    "hub_score"
   ]
  },
  {
   "cell_type": "code",
   "execution_count": null,
   "metadata": {},
   "outputs": [],
   "source": []
  }
 ],
 "metadata": {
  "kernelspec": {
   "display_name": "py38",
   "language": "python",
   "name": "python3"
  },
  "language_info": {
   "codemirror_mode": {
    "name": "ipython",
    "version": 3
   },
   "file_extension": ".py",
   "mimetype": "text/x-python",
   "name": "python",
   "nbconvert_exporter": "python",
   "pygments_lexer": "ipython3",
   "version": "3.8.16"
  },
  "orig_nbformat": 4,
  "vscode": {
   "interpreter": {
    "hash": "99b2b387f64e250c6a2159083214a9bba7ee99b621b7cdc2aace97c2cc6d5d5b"
   }
  }
 },
 "nbformat": 4,
 "nbformat_minor": 2
}
